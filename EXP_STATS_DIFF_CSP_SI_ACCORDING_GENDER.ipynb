{
 "cells": [
  {
   "cell_type": "code",
   "execution_count": 1,
   "metadata": {},
   "outputs": [],
   "source": [
    "#%% Importamos las librerias\n",
    "from shu_dataset import RegistersShuDataset\n",
    "import json\n",
    "import pandas as pd\n",
    "import numpy as np\n",
    "import matplotlib.pyplot as plt\n",
    "import seaborn as sns\n",
    "\n",
    "from random import sample, shuffle\n",
    "from copy import deepcopy\n",
    "import scipy.io as sio\n",
    "from mne.decoding import CSP\n",
    "\n",
    "import matplotlib.pyplot as plt \n",
    "import seaborn as sns"
   ]
  },
  {
   "cell_type": "code",
   "execution_count": 2,
   "metadata": {},
   "outputs": [],
   "source": [
    "#%% Leemos los datos y adaptamos la base de datos para obtener las epocas acondicionadas\n",
    "path_root = \"/home/bruno/Academico/Doctorado/Neuro_Fairness/Shu_Dataset/\"\n",
    "dataset_field=\"000_Dataset_Preprocessing/\"\n",
    "dataset_path_root = path_root + dataset_field\n",
    "save_figures = True\n",
    "figures_path_root = path_root + \"Processing_Figures/\"\n",
    "participants=[\"sub-001\",\"sub-002\",\"sub-003\",\"sub-004\",\"sub-005\",\n",
    "              \"sub-006\",\"sub-007\",\"sub-008\",\"sub-009\",\"sub-010\",\n",
    "              \"sub-011\",\"sub-012\",\"sub-013\",\"sub-014\",\"sub-015\",\n",
    "              \"sub-016\",\"sub-017\",\"sub-018\",\"sub-019\",\"sub-020\",\n",
    "              \"sub-021\",\"sub-022\",\"sub-023\",\"sub-024\",\"sub-025\"]\n",
    "\n",
    "sessions=[\"ses-01\",\"ses-02\",\"ses-03\",\"ses-04\",\"ses-05\"]"
   ]
  },
  {
   "cell_type": "code",
   "execution_count": 3,
   "metadata": {},
   "outputs": [],
   "source": [
    "dataset={}\n",
    "for participant in participants:\n",
    "    flag_participant=True\n",
    "    dataset[participant]={}\n",
    "    for session in sessions: \n",
    "        database_path= dataset_path_root + participant +\"/\"\n",
    "        data_path=participant+\"_\"+session+\"_task_motorimagery_eeg_preprocessing.mat\"\n",
    "        data=sio.loadmat(database_path + data_path)\n",
    "\n",
    "        dataset[participant][session]= {}\n",
    "        dataset[participant][session]['data'] = data['data']\n",
    "        dataset[participant][session]['labels_trials'] = np.squeeze(data['labels_trials'])\n",
    "        dataset[participant][session]['n_epochs'] = data['data'].shape[0]\n",
    "        dataset[participant][session]['n_samples'] = data['data'].shape[2]\n",
    "        dataset[participant][session]['n_chans'] = data['data'].shape[1]\n",
    "\n",
    "        if flag_participant and session == sessions[-1]:\n",
    "            dataset[participant]['group_medidator'] = data['group_medidator']\n",
    "            dataset[participant]['gender'] = data['gender']\n",
    "            dataset[participant]['id_participant'] = data['id_participant']\n",
    "            dataset[participant]['sfreq'] = data['sfreq']\n",
    "            ch_names = data['ch_names']\n",
    "            it=0\n",
    "            for ch in data['ch_names']:\n",
    "                if ' ' in ch:\n",
    "                    ch_names[it]=ch[:-1]\n",
    "                it+=1\n",
    "            dataset[participant]['ch_names']=ch_names \n",
    "            dataset[participant]['age'] = data['age']\n",
    "            flag_participant = False"
   ]
  },
  {
   "cell_type": "code",
   "execution_count": 4,
   "metadata": {},
   "outputs": [
    {
     "data": {
      "text/plain": [
       "dict_keys(['ses-01', 'ses-02', 'ses-03', 'ses-04', 'ses-05', 'group_medidator', 'gender', 'id_participant', 'sfreq', 'ch_names', 'age'])"
      ]
     },
     "execution_count": 4,
     "metadata": {},
     "output_type": "execute_result"
    }
   ],
   "source": [
    "dataset[participant].keys()"
   ]
  },
  {
   "cell_type": "code",
   "execution_count": 5,
   "metadata": {},
   "outputs": [],
   "source": [
    "# Concatenamos las sesiones de los sujetos\n",
    "nchan = dataset[participant][session]['n_chans']\n",
    "nsamples = dataset[participant][session]['n_samples']\n",
    "\n",
    "for participant in participants:\n",
    "    data_=np.zeros((1,nchan,nsamples))\n",
    "    labels_=np.zeros((1))\n",
    "    for session in sessions: \n",
    "        data_ = np.concatenate((data_, dataset[participant][session]['data']),axis=0)\n",
    "        labels_ = np.concatenate((labels_, dataset[participant][session]['labels_trials']),axis=0)\n",
    "    data_ = data_[1:,:,:]\n",
    "    labels_ = labels_[1:]\n",
    "    \n",
    "    dataset[participant]['data_sessions'] = data_.copy()\n",
    "    dataset[participant]['labels_sessions'] = labels_.copy()\n",
    "    dataset[participant]['data_gender'] =  np.array(list(dataset[participant]['gender']) * data_.shape[0])\n",
    "    dataset[participant]['group_participant'] =  np.array(list([participant]) * data_.shape[0])"
   ]
  },
  {
   "cell_type": "code",
   "execution_count": 6,
   "metadata": {},
   "outputs": [
    {
     "name": "stdout",
     "output_type": "stream",
     "text": [
      "Participantes hombres: ['sub-001', 'sub-002', 'sub-008', 'sub-012', 'sub-013', 'sub-015', 'sub-017', 'sub-018', 'sub-019', 'sub-021', 'sub-022', 'sub-023', 'sub-025']\n",
      "Participantes mujeres: ['sub-003', 'sub-004', 'sub-005', 'sub-006', 'sub-007', 'sub-009', 'sub-010', 'sub-011', 'sub-014', 'sub-016', 'sub-020', 'sub-024']\n"
     ]
    }
   ],
   "source": [
    "index_female = []\n",
    "index_male = []\n",
    "for participant in participants:\n",
    "    if dataset[participant]['gender'] == 'M':\n",
    "        index_male.append(participant)\n",
    "    elif dataset[participant]['gender'] == 'F':\n",
    "        index_female.append(participant)\n",
    "print(f\"Participantes hombres: {index_male}\")\n",
    "print(f\"Participantes mujeres: {index_female}\")"
   ]
  },
  {
   "cell_type": "code",
   "execution_count": 11,
   "metadata": {},
   "outputs": [
    {
     "data": {
      "text/plain": [
       "['sub-006', 'sub-011', 'sub-014', 'sub-004']"
      ]
     },
     "execution_count": 11,
     "metadata": {},
     "output_type": "execute_result"
    }
   ],
   "source": [
    "idx_male_test = sample(idx_male, n_test_participant)\n",
    "idx_female_test = sample(idx_female, n_test_participant)\n",
    "idx_female_test"
   ]
  },
  {
   "cell_type": "code",
   "execution_count": 12,
   "metadata": {},
   "outputs": [
    {
     "name": "stdout",
     "output_type": "stream",
     "text": [
      "Computing rank from data with rank=None\n"
     ]
    },
    {
     "ename": "",
     "evalue": "",
     "output_type": "error",
     "traceback": [
      "\u001b[1;31mCanceled future for execute_request message before replies were done"
     ]
    },
    {
     "ename": "",
     "evalue": "",
     "output_type": "error",
     "traceback": [
      "\u001b[1;31mThe Kernel crashed while executing code in the the current cell or a previous cell. Please review the code in the cell(s) to identify a possible cause of the failure. Click <a href='https://aka.ms/vscodeJupyterKernelCrash'>here</a> for more info. View Jupyter <a href='command:jupyter.viewOutput'>log</a> for further details."
     ]
    }
   ],
   "source": [
    "n_features = 6\n",
    "N_it = 1\n",
    "n_test_participant = 4\n",
    "\n",
    "info_exp = {}\n",
    "info_clfs = {}\n",
    "for it in range(N_it):\n",
    "    dic_aux = {}\n",
    "    \n",
    "    X_train = None\n",
    "    labels_train = None\n",
    "    \n",
    "    idx_male = index_male.copy()\n",
    "    idx_female = index_female.copy()\n",
    "    \n",
    "    # DIVIDE DATASET IN TRAIN, TEST AND VAL\n",
    "    # TEST PARTICIPANTS:\n",
    "    idx_male_test = sample(idx_male, n_test_participant)\n",
    "    idx_female_test = sample(idx_female, n_test_participant)\n",
    "    for it_ in range(n_test_participant):\n",
    "        idx_male.remove(idx_male_test[it_])\n",
    "        idx_female.remove(idx_female_test[it_])\n",
    "    idx_test = idx_male_test + idx_female_test\n",
    "    dic_aux['reg_idx_test'] = idx_test   \n",
    "    \n",
    "    idx_male_train = idx_male.copy()\n",
    "    idx_female_train = idx_female.copy()\n",
    "    idx_train = idx_male_train + idx_female_train\n",
    "    dic_aux['reg_idx_train'] = idx_train\n",
    "\n",
    "\n",
    "    # CONCATENAMOS EL CONJUNTO DE DATOS\n",
    "    # TRAIN \n",
    "    X_train = np.zeros((1,nchan,nsamples))\n",
    "    labels_train = np.zeros(1)\n",
    "    for participant in idx_train:\n",
    "        X_train = np.concatenate((X_train, dataset[participant]['data_sessions']),axis=0)\n",
    "        labels_train = np.concatenate((labels_train, dataset[participant]['labels_sessions']),axis=0)\n",
    "    X_train = X_train[1:,:]\n",
    "    labels_train = labels_train[1:]\n",
    "    \n",
    "    #--------------------------  CSP TRANSFORM -------------------------------#\n",
    "    csp = CSP(n_components = n_features, reg='oas', norm_trace = True)\n",
    "    csp.fit(X_train, labels_train)\n",
    "\n",
    "    # #--------------------  Kullback Lleiber Divergence  ----------------------#\n",
    "    # data_csp = {}\n",
    "    # matrix_mean_csp = np.zeros((6,len(participants)))\n",
    "    # matrix_cova_csp = np.zeros((6,6,len(participants)))\n",
    "    \n",
    "    # for participant in participants:\n",
    "    #     data_csp[participant] = csp.transform(dataset[participant]['data_sessions'])\n",
    "\n"
   ]
  },
  {
   "cell_type": "code",
   "execution_count": 9,
   "metadata": {},
   "outputs": [
    {
     "data": {
      "text/plain": [
       "(6185, 32, 1000)"
      ]
     },
     "execution_count": 9,
     "metadata": {},
     "output_type": "execute_result"
    }
   ],
   "source": [
    "X_train.shape"
   ]
  },
  {
   "cell_type": "markdown",
   "metadata": {},
   "source": [
    "--------------------------------------------------------------------------------------------------------"
   ]
  },
  {
   "attachments": {},
   "cell_type": "markdown",
   "metadata": {},
   "source": [
    "# Eliminar el sujeto cuya media se aleje mas de la media general en hombres"
   ]
  },
  {
   "cell_type": "code",
   "execution_count": 66,
   "metadata": {},
   "outputs": [
    {
     "name": "stdout",
     "output_type": "stream",
     "text": [
      "[0, 1, 7, 11, 12, 14, 16, 17, 18, 20, 21, 22, 24]\n",
      "El sujeto que es excluido del análisis por tener una distancia con respecto a la media es sub-002\n",
      "[0, 7, 11, 12, 14, 16, 17, 18, 20, 21, 22, 24]\n"
     ]
    }
   ],
   "source": [
    "means_male_csp = matrix_mean_csp[:,index_h].copy()\n",
    "mean_male = means_male_csp.mean(axis=1,keepdims=True)\n",
    "\n",
    "dist_males_mean = np.linalg.norm(means_male_csp - mean_male,axis = 0)\n",
    "idx_male_exclude = dist_males_mean.argmax()\n",
    "print(index_h)\n",
    "print(f'El sujeto que es excluido del análisis por tener una distancia con respecto a la media es {dataset_df.iloc[index_h[idx_male_exclude],-1]}')\n",
    "index_h.remove(idx_male_exclude)\n",
    "print(index_h)"
   ]
  },
  {
   "cell_type": "markdown",
   "metadata": {},
   "source": [
    "# Calculamos la divergencia de Kullback-Llieber \n",
    "\n",
    "Esta medida la realizamos para cada sujeto respecto a los demás"
   ]
  },
  {
   "cell_type": "code",
   "execution_count": 67,
   "metadata": {},
   "outputs": [],
   "source": [
    "# Definimos la función que calcula la Divergencia de Kullback-Lleiber simetrizada\n",
    "def Symmetrised_Divergence_KL(mu_p,mu_q,sigma_p,sigma_q):\n",
    "    k=len(mu_p)\n",
    "    \n",
    "    inv_sigma_p=np.linalg.inv(sigma_p)\n",
    "    inv_sigma_q=np.linalg.inv(sigma_q)\n",
    "    \n",
    "    term0_a=(mu_p - mu_q).T\n",
    "    term0_b=inv_sigma_p + inv_sigma_q\n",
    "    term0_c=mu_p - mu_q\n",
    "    term1 = term0_a @ term0_b @ term0_c\n",
    "    \n",
    "    term2= np.trace( inv_sigma_q @ sigma_p )\n",
    "    \n",
    "    term3=np.trace( inv_sigma_p @ sigma_q )\n",
    "    \n",
    "    D_skl =(term1 + term2+ term3  - 2*k)/4\n",
    "    \n",
    "    return D_skl"
   ]
  },
  {
   "cell_type": "markdown",
   "metadata": {},
   "source": [
    "# Estimamos las distancias para los pares de sujetos H-M "
   ]
  },
  {
   "cell_type": "code",
   "execution_count": 68,
   "metadata": {},
   "outputs": [
    {
     "name": "stdout",
     "output_type": "stream",
     "text": [
      "[[ 0.          2.39277484  7.6503812   4.51685014  6.57681153  6.29301747\n",
      "   7.60672722  9.03659531  7.9366608   4.01379969  4.2160063   8.66207099\n",
      "   6.7111792   4.02005317  6.83293882  6.86203546  5.79319541  4.953428\n",
      "   5.97093242  5.81754647  4.60158903  7.24312149 10.79105896  5.71520601\n",
      "   5.7852569 ]\n",
      " [ 0.          0.         14.69312308  2.63253556  4.34346272  3.97981936\n",
      "   5.79085628  5.54940056  6.04426416  3.70730618  2.64648824  5.45372226\n",
      "   7.60237387  5.41163217  4.21810289  6.51602915  8.79332116  6.66874427\n",
      "   5.71970359  5.70998889  6.21314256  5.72784582  7.73982638  6.44844323\n",
      "   5.13165036]\n",
      " [ 0.          0.          0.         13.62166084 10.79295578 13.54623889\n",
      "   9.97346269 22.0008359  16.48689502  5.35818024  8.77993194  7.64425653\n",
      "   4.16074342  9.53712787  9.56573351  8.45304379  7.05664723  2.97573789\n",
      "   9.11280319 10.03799511  3.42402055 16.07332108 12.63623806  2.94918271\n",
      "   5.93999874]\n",
      " [ 0.          0.          0.          0.          5.49834279  4.64757556\n",
      "   2.10269105  5.3077416   8.68987602  4.03202777  5.88955419  5.97353112\n",
      "   6.13971969  4.3092443   4.2148585   6.09438324  6.52938996  8.66548412\n",
      "   4.31271386  6.54166577  8.05732121  7.14643405  4.69333801  6.02941115\n",
      "   8.30910476]\n",
      " [ 0.          0.          0.          0.          0.          5.29414061\n",
      "   5.3783764   6.11397416  7.55521843  3.13977834  2.93957627  6.00544556\n",
      "   7.34536275  5.38745286  6.46062452  8.51025517  9.51151594  5.98904856\n",
      "   4.12738073  6.18764744  5.21729256  6.7285063   7.88603001  4.83817915\n",
      "   5.35562351]\n",
      " [ 0.          0.          0.          0.          0.          0.\n",
      "   6.90602281  5.27256031  4.42471275  4.82514972  4.3265969   5.20065398\n",
      "   6.72790931  7.69457473  5.95006762  3.58617915  9.66391879  8.38314693\n",
      "   5.65571545  8.74390752  8.38904636  7.53875768  9.20745021  4.30678886\n",
      "   8.00125251]\n",
      " [ 0.          0.          0.          0.          0.          0.\n",
      "   0.         12.58260282 10.34952193  3.65324206  7.49566982  3.46509986\n",
      "   7.1086191   7.70334745  4.62234637  5.28778031  9.83717735  5.73855412\n",
      "   2.86514821  4.50385903  7.12089193 14.85021106  6.29982407  5.39795039\n",
      "   6.14835244]\n",
      " [ 0.          0.          0.          0.          0.          0.\n",
      "   0.          0.         12.43627896  7.63617067  4.57508019 15.68713258\n",
      "   9.93639951  7.85256696 10.74003195 11.46683979  9.65090729 12.56970776\n",
      "   9.71740805 16.469587   12.64327115  4.98641266  8.21324145  9.7483087\n",
      "  12.19143814]\n",
      " [ 0.          0.          0.          0.          0.          0.\n",
      "   0.          0.          0.          7.91589804  5.85301272  6.83227844\n",
      "  12.09708585  7.50438879 10.75741782  8.43674177 11.99391453 10.62032089\n",
      "   7.81277986  8.19426757 10.6011532   8.51935841 11.69780162  6.23442871\n",
      "   7.60683703]\n",
      " [ 0.          0.          0.          0.          0.          0.\n",
      "   0.          0.          0.          0.          2.65889564  3.21579301\n",
      "   3.30553374  5.60803646  2.87907042  4.61141068  5.77905055  2.0543504\n",
      "   3.962712    3.86187808  3.0256351   6.88789938  7.65391479  3.05174347\n",
      "   3.42476142]\n",
      " [ 0.          0.          0.          0.          0.          0.\n",
      "   0.          0.          0.          0.          0.          5.7028364\n",
      "   4.63116221  4.37648817  6.07622315  6.72539476  5.153616    4.64475419\n",
      "   3.03692367  7.35683057  3.71352369  2.93318626  6.76411405  2.6241188\n",
      "   2.88218662]\n",
      " [ 0.          0.          0.          0.          0.          0.\n",
      "   0.          0.          0.          0.          0.          0.\n",
      "   9.59514264  9.71576062  5.7265235   2.77706482 10.88008474  6.1876295\n",
      "   3.6972721   7.83110788  8.29043123 14.85463775  8.13218272  3.05453158\n",
      "   7.76290912]\n",
      " [ 0.          0.          0.          0.          0.          0.\n",
      "   0.          0.          0.          0.          0.          0.\n",
      "   0.          4.43178226  4.76505304  8.66482029  4.24578456  2.53181263\n",
      "   8.02015015  8.64376837  2.4106415   7.29803064  9.49268562  3.10847792\n",
      "   5.45058382]\n",
      " [ 0.          0.          0.          0.          0.          0.\n",
      "   0.          0.          0.          0.          0.          0.\n",
      "   0.          0.          7.48146713 10.50201713  4.54138695  4.66690538\n",
      "   6.0924264  10.71651893  7.21454488  6.24806742  9.71064613  4.98599733\n",
      "   9.70089465]\n",
      " [ 0.          0.          0.          0.          0.          0.\n",
      "   0.          0.          0.          0.          0.          0.\n",
      "   0.          0.          0.          6.64569544  7.31147648  3.98395116\n",
      "   8.08355475  4.37420035  2.89526591 10.81319607 10.10299911  4.93484858\n",
      "   7.42259845]\n",
      " [ 0.          0.          0.          0.          0.          0.\n",
      "   0.          0.          0.          0.          0.          0.\n",
      "   0.          0.          0.          0.          8.46618421  5.37024162\n",
      "   4.97427393  8.02894653  9.23438351 12.63807692 12.9639238   3.15290176\n",
      "   9.14899446]\n",
      " [ 0.          0.          0.          0.          0.          0.\n",
      "   0.          0.          0.          0.          0.          0.\n",
      "   0.          0.          0.          0.          0.          5.67548942\n",
      "   8.14935365 11.49900719  6.28522033  4.91928861 16.97515493  3.341592\n",
      "   7.59020283]\n",
      " [ 0.          0.          0.          0.          0.          0.\n",
      "   0.          0.          0.          0.          0.          0.\n",
      "   0.          0.          0.          0.          0.          0.\n",
      "   6.72087309  4.09031477  2.41936115 10.57360125 11.93415293  2.93663758\n",
      "   5.06680226]\n",
      " [ 0.          0.          0.          0.          0.          0.\n",
      "   0.          0.          0.          0.          0.          0.\n",
      "   0.          0.          0.          0.          0.          0.\n",
      "   0.          8.14798829  6.10222879  9.17278042  6.96574861  4.01259438\n",
      "   3.90193672]\n",
      " [ 0.          0.          0.          0.          0.          0.\n",
      "   0.          0.          0.          0.          0.          0.\n",
      "   0.          0.          0.          0.          0.          0.\n",
      "   0.          0.          6.1669056  11.77529746 11.07012728  5.72665128\n",
      "   4.80518999]\n",
      " [ 0.          0.          0.          0.          0.          0.\n",
      "   0.          0.          0.          0.          0.          0.\n",
      "   0.          0.          0.          0.          0.          0.\n",
      "   0.          0.          0.          8.85619747  6.93877177  3.08746655\n",
      "   2.81774681]\n",
      " [ 0.          0.          0.          0.          0.          0.\n",
      "   0.          0.          0.          0.          0.          0.\n",
      "   0.          0.          0.          0.          0.          0.\n",
      "   0.          0.          0.          0.         12.28483015  4.93547365\n",
      "   7.76895731]\n",
      " [ 0.          0.          0.          0.          0.          0.\n",
      "   0.          0.          0.          0.          0.          0.\n",
      "   0.          0.          0.          0.          0.          0.\n",
      "   0.          0.          0.          0.          0.          6.87369987\n",
      "   6.78752079]\n",
      " [ 0.          0.          0.          0.          0.          0.\n",
      "   0.          0.          0.          0.          0.          0.\n",
      "   0.          0.          0.          0.          0.          0.\n",
      "   0.          0.          0.          0.          0.          0.\n",
      "   3.49501377]\n",
      " [ 0.          0.          0.          0.          0.          0.\n",
      "   0.          0.          0.          0.          0.          0.\n",
      "   0.          0.          0.          0.          0.          0.\n",
      "   0.          0.          0.          0.          0.          0.\n",
      "   0.        ]]\n"
     ]
    }
   ],
   "source": [
    "D_KLS=np.zeros((len(participants),len(participants)))\n",
    "for it0 in range(0,len(participants)-1):\n",
    "    for it1 in range(it0+1,len(participants)):\n",
    "        mu_p = matrix_mean_csp[:,it0]\n",
    "        mu_q = matrix_mean_csp[:,it1]\n",
    "        sigma_p = matrix_cov_csp[:,:,it0]\n",
    "        sigma_q = matrix_cov_csp[:,:,it1]\n",
    "        D_KLS[it0,it1]=Symmetrised_Divergence_KL(mu_p,mu_q,sigma_p,sigma_q)\n",
    "print(D_KLS)"
   ]
  },
  {
   "cell_type": "code",
   "execution_count": 72,
   "metadata": {},
   "outputs": [],
   "source": [
    "from random import sample, shuffle"
   ]
  },
  {
   "cell_type": "code",
   "execution_count": 83,
   "metadata": {},
   "outputs": [],
   "source": [
    "# Estimamos la divergencia de Kullback-Lleiber\n",
    "D_KLS_HM = []\n",
    "for idx_h in index_h:\n",
    "    for idx_m in index_m:\n",
    "        if D_KLS[idx_h,idx_m]!=0:\n",
    "            D_KLS_HM.append(D_KLS[idx_h,idx_m])\n",
    "            \n",
    "for idx_m in index_m:\n",
    "    for idx_h in index_h:\n",
    "        if D_KLS[idx_m,idx_h]!=0:\n",
    "            D_KLS_HM.append(D_KLS[idx_m,idx_h])\n",
    "D_KLS_HM =  sample(D_KLS_HM, 66)\n",
    "D_KLS_HM=np.array(D_KLS_HM)\n",
    "D_KLS_HM_=np.array(D_KLS_HM_)"
   ]
  },
  {
   "cell_type": "code",
   "execution_count": 84,
   "metadata": {},
   "outputs": [],
   "source": [
    "D_KLS_HH = []\n",
    "for idx_h0 in index_h:\n",
    "    for idx_h1 in index_h:\n",
    "        if D_KLS[idx_h0,idx_h1]!=0:\n",
    "            D_KLS_HH.append(D_KLS[idx_h0,idx_h1])\n",
    "D_KLS_HH=np.array(D_KLS_HH)\n"
   ]
  },
  {
   "cell_type": "code",
   "execution_count": 85,
   "metadata": {},
   "outputs": [],
   "source": [
    "D_KLS_MM = []\n",
    "for idx_m0 in index_m:\n",
    "    for idx_m1 in index_m:\n",
    "        if D_KLS[idx_m0,idx_m1]!=0:\n",
    "            D_KLS_MM.append(D_KLS[idx_m0,idx_m1])\n",
    "D_KLS_MM=np.array(D_KLS_MM)"
   ]
  },
  {
   "cell_type": "markdown",
   "metadata": {},
   "source": [
    "# Realizamos un histograma de las tres medidas"
   ]
  },
  {
   "cell_type": "code",
   "execution_count": 86,
   "metadata": {},
   "outputs": [
    {
     "data": {
      "text/plain": [
       "<matplotlib.legend.Legend at 0x7f0502ab9330>"
      ]
     },
     "execution_count": 86,
     "metadata": {},
     "output_type": "execute_result"
    },
    {
     "data": {
      "image/png": "[encoded data removed]",
      "text/plain": [
       "<Figure size 600x600 with 1 Axes>"
      ]
     },
     "metadata": {},
     "output_type": "display_data"
    }
   ],
   "source": [
    "fig,ax=plt.subplots()\n",
    "fig.set_size_inches((6,6))\n",
    "ax.hist(D_KLS_MM,label='M-M',density=True,alpha=1)\n",
    "ax.hist(D_KLS_HM,label='H-M',density=True,alpha=0.5)\n",
    "ax.hist(D_KLS_HH,label='H-H',density=True,alpha=0.25)\n",
    "\n",
    "ax.set_xlabel('$D_{KLS}$')\n",
    "ax.set_ylabel('Frecuencias relativas')\n",
    "ax.set(title='Histogramas de las distancias $D_{KLS}$')\n",
    "\n",
    "ax.legend()"
   ]
  },
  {
   "attachments": {},
   "cell_type": "markdown",
   "metadata": {},
   "source": [
    "# Prueba de Normalidad"
   ]
  },
  {
   "cell_type": "code",
   "execution_count": 87,
   "metadata": {},
   "outputs": [],
   "source": [
    "# \n",
    "from scipy.stats import ks_1samp\n",
    "from scipy.stats import ttest_1samp\n",
    "from scipy.stats import wilcoxon\n",
    "from scipy import stats"
   ]
  },
  {
   "cell_type": "code",
   "execution_count": 88,
   "metadata": {},
   "outputs": [
    {
     "name": "stdout",
     "output_type": "stream",
     "text": [
      "Significancia: 0.017\n",
      "Intervalo de confianza: 98.33333333333333\n"
     ]
    },
    {
     "data": {
      "text/html": [
       "<div>\n",
       "<style scoped>\n",
       "    .dataframe tbody tr th:only-of-type {\n",
       "        vertical-align: middle;\n",
       "    }\n",
       "\n",
       "    .dataframe tbody tr th {\n",
       "        vertical-align: top;\n",
       "    }\n",
       "\n",
       "    .dataframe thead th {\n",
       "        text-align: right;\n",
       "    }\n",
       "</style>\n",
       "<table border=\"1\" class=\"dataframe\">\n",
       "  <thead>\n",
       "    <tr style=\"text-align: right;\">\n",
       "      <th></th>\n",
       "      <th>statistics</th>\n",
       "      <th>p-value</th>\n",
       "      <th>H0</th>\n",
       "    </tr>\n",
       "  </thead>\n",
       "  <tbody>\n",
       "    <tr>\n",
       "      <th>M-F</th>\n",
       "      <td>0.982106</td>\n",
       "      <td>9.548257e-116</td>\n",
       "      <td>False</td>\n",
       "    </tr>\n",
       "    <tr>\n",
       "      <th>F-F</th>\n",
       "      <td>0.982254</td>\n",
       "      <td>5.524530e-116</td>\n",
       "      <td>False</td>\n",
       "    </tr>\n",
       "    <tr>\n",
       "      <th>M-M</th>\n",
       "      <td>0.982254</td>\n",
       "      <td>5.524530e-116</td>\n",
       "      <td>False</td>\n",
       "    </tr>\n",
       "  </tbody>\n",
       "</table>\n",
       "</div>"
      ],
      "text/plain": [
       "     statistics        p-value     H0\n",
       "M-F    0.982106  9.548257e-116  False\n",
       "F-F    0.982254  5.524530e-116  False\n",
       "M-M    0.982254  5.524530e-116  False"
      ]
     },
     "execution_count": 88,
     "metadata": {},
     "output_type": "execute_result"
    }
   ],
   "source": [
    "alpha = 0.05\n",
    "alpha_bonferroni = alpha / 3\n",
    "\n",
    "test_norm = pd.DataFrame(columns=['statistics','p-value','H0'])\n",
    "comparations = ['M-F','F-F','M-M']\n",
    "\n",
    "norm_test = ks_1samp(D_KLS_HM,stats.norm.cdf)\n",
    "if norm_test.pvalue <= alpha_bonferroni:\n",
    "    test_norm.loc['M-F']=[norm_test.statistic,norm_test.pvalue,False]\n",
    "else:\n",
    "    test_norm.loc['M-F']=[norm_test.statistic,norm_test.pvalue,True]\n",
    "\n",
    "\n",
    "norm_test = ks_1samp(D_KLS_MM,stats.norm.cdf)\n",
    "if norm_test.pvalue <= alpha_bonferroni:\n",
    "    test_norm.loc['F-F']=[norm_test.statistic,norm_test.pvalue,False]\n",
    "else:\n",
    "    test_norm.loc['F-F']=[norm_test.statistic,norm_test.pvalue,True]\n",
    "\n",
    "\n",
    "norm_test = ks_1samp(D_KLS_MM,stats.norm.cdf)\n",
    "if norm_test.pvalue <= alpha_bonferroni:\n",
    "    test_norm.loc['M-M']=[norm_test.statistic,norm_test.pvalue,False]\n",
    "else:\n",
    "    test_norm.loc['M-M']=[norm_test.statistic,norm_test.pvalue,True]\n",
    "\n",
    "print(f'Significancia: {alpha_bonferroni:.2}')\n",
    "print(f'Intervalo de confianza: {100*(1-alpha_bonferroni)}')\n",
    "test_norm"
   ]
  },
  {
   "attachments": {},
   "cell_type": "markdown",
   "metadata": {},
   "source": [
    "# Realizamos un test de Mann Whitney - U\n"
   ]
  },
  {
   "cell_type": "code",
   "execution_count": 89,
   "metadata": {},
   "outputs": [],
   "source": [
    "import scipy.stats as st"
   ]
  },
  {
   "cell_type": "code",
   "execution_count": 90,
   "metadata": {},
   "outputs": [
    {
     "data": {
      "text/html": [
       "<div>\n",
       "<style scoped>\n",
       "    .dataframe tbody tr th:only-of-type {\n",
       "        vertical-align: middle;\n",
       "    }\n",
       "\n",
       "    .dataframe tbody tr th {\n",
       "        vertical-align: top;\n",
       "    }\n",
       "\n",
       "    .dataframe thead th {\n",
       "        text-align: right;\n",
       "    }\n",
       "</style>\n",
       "<table border=\"1\" class=\"dataframe\">\n",
       "  <thead>\n",
       "    <tr style=\"text-align: right;\">\n",
       "      <th></th>\n",
       "      <th>statics</th>\n",
       "      <th>p-value</th>\n",
       "      <th>H0</th>\n",
       "    </tr>\n",
       "  </thead>\n",
       "  <tbody>\n",
       "    <tr>\n",
       "      <th>MF - MM</th>\n",
       "      <td>1864.0</td>\n",
       "      <td>0.153642</td>\n",
       "      <td>True</td>\n",
       "    </tr>\n",
       "    <tr>\n",
       "      <th>MF - FF</th>\n",
       "      <td>2391.0</td>\n",
       "      <td>0.333485</td>\n",
       "      <td>True</td>\n",
       "    </tr>\n",
       "  </tbody>\n",
       "</table>\n",
       "</div>"
      ],
      "text/plain": [
       "         statics   p-value    H0\n",
       "MF - MM   1864.0  0.153642  True\n",
       "MF - FF   2391.0  0.333485  True"
      ]
     },
     "execution_count": 90,
     "metadata": {},
     "output_type": "execute_result"
    }
   ],
   "source": [
    "test = pd.DataFrame(columns=['statics','p-value','H0'])\n",
    "U_test = st.mannwhitneyu(D_KLS_HM,D_KLS_HH)\n",
    "if U_test.pvalue <= alpha:\n",
    "    test.loc['MF - MM']=[U_test.statistic,U_test.pvalue,False]\n",
    "else: \n",
    "    test.loc['MF - MM']=[U_test.statistic,U_test.pvalue,True]\n",
    "\n",
    "U_test = st.mannwhitneyu(D_KLS_HM,D_KLS_MM)\n",
    "if U_test.pvalue <= alpha:\n",
    "    test.loc['MF - FF']=[U_test.statistic,U_test.pvalue,False]\n",
    "else: \n",
    "    test.loc['MF - FF']=[U_test.statistic,U_test.pvalue,True]\n",
    "    \n",
    "test"
   ]
  },
  {
   "cell_type": "code",
   "execution_count": 37,
   "metadata": {},
   "outputs": [],
   "source": [
    "def t_test(data0,data1):\n",
    "    n0=data0.shape[0]\n",
    "    n1=data1.shape[0]\n",
    "    mu0=data0.mean()\n",
    "    mu1=data1.mean()\n",
    "    var0=np.var(data0)\n",
    "    var1=np.var(data1)\n",
    "\n",
    "    t = (mu0-mu1)/np.sqrt(var0/n0 + var1/n1)\n",
    "\n",
    "    #Estimamos los grados de libertad desbalanceados \n",
    "\n",
    "    v =  (var0/n0 + var1/n1) **2 / ( ((var0/n0)**2  / (n0-1)) +  ((var1/n1)**2  / (n1-1)))\n",
    "\n",
    "    #Distribución t-student\n",
    "    t_student = st.t(df=v)\n",
    "\n",
    "    #p-value\n",
    "    p_value = 2*t_student.cdf(-np.abs(t))\n",
    "    return t,p_value"
   ]
  },
  {
   "cell_type": "markdown",
   "metadata": {},
   "source": [
    "Hipotesis Nula: no hay diferencias entre las medias: $μ_{x}=μ_{y}$"
   ]
  },
  {
   "cell_type": "code",
   "execution_count": 44,
   "metadata": {},
   "outputs": [
    {
     "data": {
      "text/html": [
       "<div>\n",
       "<style scoped>\n",
       "    .dataframe tbody tr th:only-of-type {\n",
       "        vertical-align: middle;\n",
       "    }\n",
       "\n",
       "    .dataframe tbody tr th {\n",
       "        vertical-align: top;\n",
       "    }\n",
       "\n",
       "    .dataframe thead th {\n",
       "        text-align: right;\n",
       "    }\n",
       "</style>\n",
       "<table border=\"1\" class=\"dataframe\">\n",
       "  <thead>\n",
       "    <tr style=\"text-align: right;\">\n",
       "      <th></th>\n",
       "      <th>t-test</th>\n",
       "      <th>p-value</th>\n",
       "    </tr>\n",
       "  </thead>\n",
       "  <tbody>\n",
       "    <tr>\n",
       "      <th>HM - HH</th>\n",
       "      <td>-1.465300</td>\n",
       "      <td>0.144801</td>\n",
       "    </tr>\n",
       "    <tr>\n",
       "      <th>HM - MM</th>\n",
       "      <td>0.734814</td>\n",
       "      <td>0.463721</td>\n",
       "    </tr>\n",
       "    <tr>\n",
       "      <th>HH - MM</th>\n",
       "      <td>1.923889</td>\n",
       "      <td>0.056390</td>\n",
       "    </tr>\n",
       "  </tbody>\n",
       "</table>\n",
       "</div>"
      ],
      "text/plain": [
       "           t-test   p-value\n",
       "HM - HH -1.465300  0.144801\n",
       "HM - MM  0.734814  0.463721\n",
       "HH - MM  1.923889  0.056390"
      ]
     },
     "execution_count": 44,
     "metadata": {},
     "output_type": "execute_result"
    }
   ],
   "source": [
    "table = {}\n",
    "table['HM - HH'] = {}\n",
    "table['HM - HH']['t-test'] , table['HM - HH']['p-value'] = t_test(D_KLS_HM,D_KLS_HH)\n",
    "table['HM - MM'] = {}\n",
    "table['HM - MM']['t-test'] , table['HM - MM']['p-value'] = t_test(D_KLS_HM,D_KLS_MM)\n",
    "table['HH - MM'] = {}\n",
    "table['HH - MM']['t-test'] , table['HH - MM']['p-value'] = t_test(D_KLS_HH,D_KLS_MM)\n",
    "\n",
    "t_test_table=pd.DataFrame(table).transpose()\n",
    "t_test_table"
   ]
  },
  {
   "cell_type": "markdown",
   "metadata": {},
   "source": [
    "---------------------------------------------------------------------------------------"
   ]
  },
  {
   "cell_type": "markdown",
   "metadata": {},
   "source": [
    "# Dividimos los datos por el tipo de imagenería motora"
   ]
  },
  {
   "cell_type": "code",
   "execution_count": null,
   "metadata": {},
   "outputs": [],
   "source": [
    "labels = np.unique(DATA['sub-001']['labels_trials'])\n",
    "\n",
    "for participant in participants:\n",
    "    data = DATA[participant]['data_csp']\n",
    "    DATA[participant]['data_csp_class1']=data[:,DATA[participant]['labels_trials'] == labels[0]]\n",
    "    DATA[participant]['data_csp_class2']=data[:,DATA[participant]['labels_trials'] == labels[1]]\n",
    "    \n",
    "    DATA[participant]['mu_csp_class1']=data[:,DATA[participant]['labels_trials'] == labels[0]].mean(axis=1) \n",
    "    DATA[participant]['mu_csp_class2']=data[:,DATA[participant]['labels_trials'] == labels[1]].mean(axis=1) # Se puede quitar el keepdims\n",
    "    DATA[participant]['sigma_csp_class1']=np.cov(data[:,DATA[participant]['labels_trials'] == labels[0]])\n",
    "    DATA[participant]['sigma_csp_class2']=np.cov(data[:,DATA[participant]['labels_trials'] == labels[1]])\n",
    "    \n",
    "DATA_TABLE = pd.DataFrame(DATA).transpose()\n",
    "DATA_TABLE.reset_index(inplace=True)\n",
    "DATA_TABLE.rename(columns = {'index':'subject'},inplace = True)\n",
    "DATA_TABLE"
   ]
  },
  {
   "cell_type": "markdown",
   "metadata": {},
   "source": [
    "# Graficamos\n"
   ]
  },
  {
   "cell_type": "code",
   "execution_count": null,
   "metadata": {},
   "outputs": [],
   "source": [
    "# Aplicamos PCA\n",
    "data_csp_pca_class1=[]\n",
    "mu_csp_pca_class1=[]\n",
    "sigma_csp_pca_class1=[]\n",
    "eig_val_pca_class1=[]\n",
    "data_csp_pca_class2=[]\n",
    "mu_csp_pca_class2=[]\n",
    "sigma_csp_pca_class2=[]\n",
    "eig_val_pca_class2=[]\n",
    "for it in range(len(DATA_TABLE)):\n",
    "    X = DATA_TABLE.iloc[it]['data_csp_class1']\n",
    "    pca_=pca()\n",
    "    eig_val , _= pca_.Fit(X = X)\n",
    "    X_proj = pca_.Project(X,n=2,plot=False)\n",
    "    data_csp_pca_class1.append(X_proj)\n",
    "    eig_val_pca_class1.append(eig_val)\n",
    "    mu_csp_pca_class1.append(data_csp_pca_class1[-1].mean(axis=1))\n",
    "    sigma_csp_pca_class1.append(np.cov(data_csp_pca_class1[-1]))\n",
    "    \n",
    "    X = DATA_TABLE.iloc[it]['data_csp_class2']\n",
    "    pca_=pca()\n",
    "    eig_val , _= pca_.Fit(X = X)\n",
    "    X_proj = pca_.Project(X,n=2,plot=False)\n",
    "    data_csp_pca_class2.append(X_proj)\n",
    "    eig_val_pca_class2.append(eig_val)\n",
    "    mu_csp_pca_class2.append(data_csp_pca_class2[-1].mean(axis=1))\n",
    "    sigma_csp_pca_class2.append(np.cov(data_csp_pca_class2[-1]))\n",
    "    \n",
    "# Vemos los eigenvalues\n",
    "fig,ax = plt.subplots()\n",
    "a=1\n",
    "for it in range(len(DATA_TABLE)):  \n",
    "    x=np.linspace(0,len(eig_val_pca_class1[it]),len(eig_val_pca_class1[it]))\n",
    "    ax.bar(x,eig_val_pca_class1[it],alpha=a)\n",
    "    a-=0.005\n",
    "\n",
    "fig,ax = plt.subplots()\n",
    "a=1\n",
    "for it in range(len(DATA_TABLE)):  \n",
    "    x=np.linspace(0,len(eig_val_pca_class2[it]),len(eig_val_pca_class2[it]))\n",
    "    ax.bar(x,eig_val_pca_class2[it],alpha=a)\n",
    "    a-=0.005\n",
    "\n"
   ]
  },
  {
   "cell_type": "code",
   "execution_count": null,
   "metadata": {},
   "outputs": [],
   "source": [
    "#Graficamos los datos de hombre\n",
    "fig , ax = plt.subplots()\n",
    "fig.set_size_inches((12,12))\n",
    "\n",
    "n_std=3.\n",
    "#len(DATA_TABLE)\n",
    "for it in index_h[1:3]:\n",
    "    ax.scatter(data_csp_pca_class1[it][0,:],data_csp_pca_class1[it][1,:],\n",
    "                   marker='o',cmap='tab20b',color=\"C{}\".format(it),facecolors='none',\n",
    "                   alpha=0.25)\n",
    "    ax.scatter(data_csp_pca_class2[it][0,:],data_csp_pca_class2[it][1,:],\n",
    "                   marker='s',cmap='tab20b',color=\"C{}\".format(it),facecolors='none',\n",
    "                   alpha=0.25)\n",
    "for it in index_h[1:3]:\n",
    "    ax.scatter(mu_csp_pca_class1[it][0],mu_csp_pca_class1[it][1],marker='o',cmap='tab20b',color=\"C{}\".format(it),label=f\"H{it} class 1\")\n",
    "    ax = Plot_Ellipse_Distribution(mu_csp_pca_class1[it], sigma_csp_pca_class1[it], nstd =1., ax=ax,color=\"C{}\".format(it))\n",
    "    ax.scatter(mu_csp_pca_class2[it][0],mu_csp_pca_class2[it][1],marker='o',cmap='tab20b',color=\"C{}\".format(it),label=f\"H{it} class 2\")\n",
    "    ax = Plot_Ellipse_Distribution(mu_csp_pca_class2[it], sigma_csp_pca_class2[it], nstd =1., ax=ax,color=\"C{}\".format(it))\n",
    "    \n",
    "ax.set_xlabel('X1 pca')\n",
    "ax.set_ylabel('X2 pca')\n",
    "ax.set_title('PCA para hombres ')\n",
    "ax.legend()\n",
    "ax.set_aspect('equal', adjustable='datalim')"
   ]
  },
  {
   "cell_type": "code",
   "execution_count": null,
   "metadata": {},
   "outputs": [],
   "source": [
    "#Graficamos los datos de mujeres\n",
    "fig , ax = plt.subplots()\n",
    "fig.set_size_inches((12,12))\n",
    "\n",
    "n_std=3.\n",
    "#len(DATA_TABLE)\n",
    "for it in index_m[1:3]:\n",
    "    ax.scatter(data_csp_pca_class1[it][0,:],data_csp_pca_class1[it][1,:],\n",
    "                   marker='^',cmap='tab20b',color=\"C{}\".format(it),facecolors='none',\n",
    "                   alpha=0.25)\n",
    "    ax.scatter(data_csp_pca_class2[it][0,:],data_csp_pca_class2[it][1,:],\n",
    "                   marker='P',cmap='tab20b',color=\"C{}\".format(it),facecolors='none',\n",
    "                   alpha=0.25)\n",
    "for it in index_m[1:3]:\n",
    "    ax.scatter(mu_csp_pca_class1[it][0],mu_csp_pca_class1[it][1],marker='^',cmap='tab20b',color=\"C{}\".format(it),label=f\"M{it} class 1\")\n",
    "    ax = Plot_Ellipse_Distribution(mu_csp_pca_class1[it], sigma_csp_pca_class1[it], nstd =1., ax=ax,color=\"C{}\".format(it))\n",
    "    ax.scatter(mu_csp_pca_class2[it][0],mu_csp_pca_class2[it][1],marker='P',cmap='tab20b',color=\"C{}\".format(it),label=f\"M{it} class 2\")\n",
    "    ax = Plot_Ellipse_Distribution(mu_csp_pca_class2[it], sigma_csp_pca_class2[it], nstd =1., ax=ax,color=\"C{}\".format(it))\n",
    "    \n",
    "ax.set_xlabel('X1 pca')\n",
    "ax.set_ylabel('X2 pca')\n",
    "ax.set_title('PCA para mujeres ')\n",
    "ax.legend()\n",
    "ax.set_aspect('equal', adjustable='datalim')"
   ]
  },
  {
   "cell_type": "code",
   "execution_count": null,
   "metadata": {},
   "outputs": [],
   "source": [
    "fig , ax = plt.subplots()\n",
    "fig.set_size_inches((6,6))\n",
    "\n",
    "n_std=3.\n",
    "#len(DATA_TABLE)\n",
    "it=0\n",
    "for it_m, it_h in (index_m[1:3], index_h[1:3]):\n",
    "    ax.scatter(data_csp_pca_class1[it_m][0,:],data_csp_pca_class1[it_m][1,:],\n",
    "                   marker='^',cmap='tab20b',color=\"C{}\".format(it),facecolors='none',\n",
    "                   alpha=0.25)\n",
    "    \n",
    "    ax.scatter(data_csp_pca_class1[it_h][0,:],data_csp_pca_class1[it_h][1,:],\n",
    "                   marker='o',cmap='tab20b',color=\"C{}\".format(it+1),facecolors='none',\n",
    "                   alpha=0.25)\n",
    "    \n",
    "    ax.scatter(data_csp_pca_class2[it_m][0,:],data_csp_pca_class2[it_m][1,:],\n",
    "                   marker='P',cmap='tab20b',color=\"C{}\".format(it),facecolors='none',\n",
    "                   alpha=0.25)\n",
    "    \n",
    "    ax.scatter(data_csp_pca_class2[it_h][0,:],data_csp_pca_class2[it_h][1,:],\n",
    "                   marker='s',cmap='tab20b',color=\"C{}\".format(it+1),facecolors='none',\n",
    "                   alpha=0.25)\n",
    "    it+=2\n",
    "\n",
    "it=0\n",
    "for it_m, it_h in (index_m[1:3], index_h[1:3]):\n",
    "    ax.scatter(mu_csp_pca_class1[it_m][0],mu_csp_pca_class1[it_m][1],\n",
    "               marker='^',cmap='tab20b',color=\"C{}\".format(it),\n",
    "               label=f\"M{it_m} clase 1\")\n",
    "    ax = Plot_Ellipse_Distribution(mu_csp_pca_class1[it_m], sigma_csp_pca_class1[it_m], nstd =1., ax=ax,color=\"C{}\".format(it))\n",
    "    ax.scatter(mu_csp_pca_class2[it_m][0],mu_csp_pca_class2[it_m][1],\n",
    "               marker='P',cmap='tab20b',color=\"C{}\".format(it),\n",
    "               label=f\"M{it_m} clase 2\")\n",
    "    ax = Plot_Ellipse_Distribution(mu_csp_pca_class2[it_m], sigma_csp_pca_class2[it_m], nstd =1., ax=ax,color=\"C{}\".format(it))\n",
    "    \n",
    "    ax.scatter(mu_csp_pca_class1[it_h][0],mu_csp_pca_class1[it_h][1],\n",
    "               marker='o',cmap='tab20b',color=\"C{}\".format(it+1),\n",
    "               label=f\"H{it_h} clase 1\")\n",
    "    ax = Plot_Ellipse_Distribution(mu_csp_pca_class1[it_h], sigma_csp_pca_class1[it_h], nstd =1., ax=ax,color=\"C{}\".format(it+1))\n",
    "    \n",
    "    ax.scatter(mu_csp_pca_class2[it_h][0],mu_csp_pca_class2[it_h][1],\n",
    "               marker='s',cmap='tab20b',color=\"C{}\".format(it+1),\n",
    "               label=f\"H{it_h} clase 2\")\n",
    "    ax = Plot_Ellipse_Distribution(mu_csp_pca_class2[it_h], sigma_csp_pca_class2[it_h], nstd =1., ax=ax,color=\"C{}\".format(it+1))\n",
    "    \n",
    "    \n",
    "    it+=2\n",
    "    \n",
    "    \n",
    "it=0\n",
    "\n",
    "ax.set_xlabel('X1 pca')\n",
    "ax.set_ylabel('X2 pca')\n",
    "ax.set_title('PCA para dos hombres y mujeres ')\n",
    "ax.legend()\n",
    "ax.set_aspect('equal', adjustable='datalim')"
   ]
  },
  {
   "cell_type": "code",
   "execution_count": null,
   "metadata": {},
   "outputs": [],
   "source": [
    "DATA[participant]['data_csp_class1']=data[:,DATA[participant]['labels_trials'] == labels[0]]\n",
    "DATA[participant]['data_csp_class2']=data[:,DATA[participant]['labels_trials'] == labels[1]]\n",
    "\n",
    "DATA[participant]['mu_csp_class1']=data[:,DATA[participant]['labels_trials'] == labels[0]].mean(axis=1) \n",
    "DATA[participant]['mu_csp_class2']=data[:,DATA[participant]['labels_trials'] == labels[1]].mean(axis=1) # Se puede quitar el keepdims\n",
    "DATA[participant]['sigma_csp_class1']=np.cov(data[:,DATA[participant]['labels_trials'] == labels[0]])\n",
    "DATA[participant]['sigma_csp_class2']"
   ]
  },
  {
   "cell_type": "code",
   "execution_count": null,
   "metadata": {},
   "outputs": [],
   "source": [
    "data_mu_csp_class1= np.zeros((6,len(DATA_TABLE)))\n",
    "data_sigma_csp_class1 = np.zeros((6,6,len(DATA_TABLE)))\n",
    "data_mu_csp_class2= np.zeros((6,len(DATA_TABLE)))\n",
    "data_sigma_csp_class2 = np.zeros((6,6,len(DATA_TABLE)))\n",
    "for it in range(len(DATA_TABLE)):\n",
    "    data_mu_csp_class1[:,it]= DATA_TABLE['mu_csp_class1'][it]\n",
    "    data_sigma_csp_class1[:,:,it]= DATA_TABLE['sigma_csp_class1'][it]\n",
    "    data_mu_csp_class2[:,it]= DATA_TABLE['mu_csp_class2'][it]\n",
    "    data_sigma_csp_class2[:,:,it]= DATA_TABLE['sigma_csp_class2'][it]"
   ]
  },
  {
   "cell_type": "code",
   "execution_count": null,
   "metadata": {},
   "outputs": [],
   "source": [
    "D_KLS_class1=np.zeros((len(DATA_TABLE),len(DATA_TABLE)))\n",
    "D_KLS_class2=np.zeros((len(DATA_TABLE),len(DATA_TABLE)))\n",
    "for it0 in range(0,len(DATA_TABLE)-1):\n",
    "    for it1 in range(it0+1,len(DATA_TABLE)):\n",
    "        mu_p = data_mu_csp_class1[:,it0]\n",
    "        mu_q = data_mu_csp_class1[:,it1]\n",
    "        sigma_p = data_sigma_csp_class1[:,:,it0]\n",
    "        sigma_q = data_sigma_csp_class1[:,:,it1]\n",
    "        D_KLS_class1[it0,it1]=Symmetrised_Divergence_KL(mu_p,mu_q,sigma_p,sigma_q)\n",
    "        \n",
    "        mu_p = data_mu_csp_class2[:,it0]\n",
    "        mu_q = data_mu_csp_class2[:,it1]\n",
    "        sigma_p = data_sigma_csp_class2[:,:,it0]\n",
    "        sigma_q = data_sigma_csp_class2[:,:,it1]\n",
    "        D_KLS_class2[it0,it1]=Symmetrised_Divergence_KL(mu_p,mu_q,sigma_p,sigma_q)\n",
    "        \n",
    "print(D_KLS_class2)"
   ]
  },
  {
   "cell_type": "code",
   "execution_count": null,
   "metadata": {},
   "outputs": [],
   "source": [
    "# Estimamos la divergencia de Kullback-Lleiber\n",
    "D_KLS_HM_class1 = []\n",
    "D_KLS_HM_class2 = []\n",
    "for idx_h in index_h:\n",
    "    for idx_m in index_m:\n",
    "        if D_KLS_class1[idx_h,idx_m]!=0.:\n",
    "            D_KLS_HM_class1.append(D_KLS_class1[idx_h,idx_m])\n",
    "        if D_KLS_class2[idx_h,idx_m]!=0.:\n",
    "            D_KLS_HM_class2.append(D_KLS_class2[idx_h,idx_m])\n",
    "            \n",
    "for idx_m in index_m:\n",
    "    for idx_h in index_h:\n",
    "        if D_KLS_class1[idx_m,idx_h]!=0.:\n",
    "            D_KLS_HM_class1.append(D_KLS_class1[idx_m,idx_h])\n",
    "        if D_KLS_class2[idx_m,idx_h]!=0.:\n",
    "            D_KLS_HM_class2.append(D_KLS_class2[idx_m,idx_h])\n",
    "            \n",
    "D_KLS_HM_class1=np.array(D_KLS_HM_class1)\n",
    "D_KLS_HM_class2=np.array(D_KLS_HM_class2)\n",
    "print(D_KLS_HM_class1)\n",
    "print(D_KLS_HM_class2)"
   ]
  },
  {
   "cell_type": "code",
   "execution_count": null,
   "metadata": {},
   "outputs": [],
   "source": [
    "D_KLS_HH_class1 = []\n",
    "D_KLS_HH_class2 = []\n",
    "for idx_h0 in index_h:\n",
    "    for idx_h1 in index_h:\n",
    "        if D_KLS_class1[idx_h0,idx_h1]!=0:\n",
    "            D_KLS_HH_class1.append(D_KLS_class1[idx_h0,idx_h1])\n",
    "        if D_KLS_class2[idx_h0,idx_h1]!=0:\n",
    "            D_KLS_HH_class2.append(D_KLS_class2[idx_h0,idx_h1])\n",
    "D_KLS_HH_class1=np.array(D_KLS_HH_class1)\n",
    "D_KLS_HH_class2=np.array(D_KLS_HH_class2)"
   ]
  },
  {
   "cell_type": "code",
   "execution_count": null,
   "metadata": {},
   "outputs": [],
   "source": [
    "D_KLS_MM_class1 = []\n",
    "D_KLS_MM_class2 = []\n",
    "for idx_m0 in index_m:\n",
    "    for idx_m1 in index_m:\n",
    "        if D_KLS_class1[idx_m0,idx_m1]!=0:\n",
    "            D_KLS_MM_class1.append(D_KLS_class1[idx_m0,idx_m1])\n",
    "        if D_KLS_class2[idx_m0,idx_m1]!=0:\n",
    "            D_KLS_MM_class2.append(D_KLS_class2[idx_m0,idx_m1])\n",
    "D_KLS_MM_class1=np.array(D_KLS_MM_class1)\n",
    "D_KLS_MM_class2=np.array(D_KLS_MM_class2)"
   ]
  },
  {
   "cell_type": "code",
   "execution_count": null,
   "metadata": {},
   "outputs": [],
   "source": [
    "fig,ax=plt.subplots()\n",
    "fig.set_size_inches((6,6))\n",
    "ax.hist(D_KLS_MM_class1,label='M-M',density=True,alpha=1)\n",
    "ax.hist(D_KLS_HM_class1,label='H-M',density=True,alpha=0.5)\n",
    "ax.hist(D_KLS_HH_class1,label='H-H',density=True,alpha=0.25)\n",
    "\n",
    "ax.set_xlabel('$D_{KLS}$')\n",
    "ax.set_ylabel('Frecuencias relativas')\n",
    "ax.set(title='Histogramas de las distancias $D_{KLS}$')\n",
    "ax.legend()"
   ]
  },
  {
   "cell_type": "code",
   "execution_count": null,
   "metadata": {},
   "outputs": [],
   "source": [
    "fig,ax=plt.subplots()\n",
    "fig.set_size_inches((6,6))\n",
    "ax.hist(D_KLS_MM_class2,label='M-M',density=True,alpha=1)\n",
    "ax.hist(D_KLS_HM_class2,label='H-M',density=True,alpha=0.5)\n",
    "ax.hist(D_KLS_HH_class2,label='H-H',density=True,alpha=0.25)\n",
    "ax.set_xlabel('$D_{KLS}$')\n",
    "ax.set_ylabel('Frecuencias relativas')\n",
    "ax.set(title='Histogramas de las distancias $D_{KLS}$')\n",
    "ax.legend()"
   ]
  },
  {
   "cell_type": "code",
   "execution_count": null,
   "metadata": {},
   "outputs": [],
   "source": [
    "table = {}\n",
    "table['HM - HH'] = {}\n",
    "table['HM - HH']['t-test'] , table['HM - HH']['p-value'] = st.mannwhitneyu(D_KLS_HM_class1,D_KLS_HH_class1)\n",
    "table['HM - MM'] = {}\n",
    "table['HM - MM']['t-test'] , table['HM - MM']['p-value'] = st.mannwhitneyu(D_KLS_HM_class1,D_KLS_MM_class1)\n",
    "table['HH - MM'] = {}\n",
    "table['HH - MM']['t-test'] , table['HH - MM']['p-value'] = st.mannwhitneyu(D_KLS_HH_class1,D_KLS_MM_class1)\n",
    "\n",
    "mannwhitneyu_test_table=pd.DataFrame(table).transpose()\n",
    "mannwhitneyu_test_table"
   ]
  },
  {
   "cell_type": "code",
   "execution_count": null,
   "metadata": {},
   "outputs": [],
   "source": [
    "table = {}\n",
    "table['HM - HH'] = {}\n",
    "table['HM - HH']['t-test'] , table['HM - HH']['p-value'] = st.mannwhitneyu(D_KLS_HM_class2,D_KLS_HH_class2)\n",
    "table['HM - MM'] = {}\n",
    "table['HM - MM']['t-test'] , table['HM - MM']['p-value'] = st.mannwhitneyu(D_KLS_HM_class2,D_KLS_MM_class2)\n",
    "table['HH - MM'] = {}\n",
    "table['HH - MM']['t-test'] , table['HH - MM']['p-value'] = st.mannwhitneyu(D_KLS_HH_class2,D_KLS_MM_class2)\n",
    "\n",
    "mannwhitneyu_test_table=pd.DataFrame(table).transpose()\n",
    "mannwhitneyu_test_table"
   ]
  },
  {
   "cell_type": "code",
   "execution_count": null,
   "metadata": {},
   "outputs": [],
   "source": []
  }
 ],
 "metadata": {
  "kernelspec": {
   "display_name": "fairness1.0",
   "language": "python",
   "name": "python3"
  },
  "language_info": {
   "codemirror_mode": {
    "name": "ipython",
    "version": 3
   },
   "file_extension": ".py",
   "mimetype": "text/x-python",
   "name": "python",
   "nbconvert_exporter": "python",
   "pygments_lexer": "ipython3",
   "version": "3.10.5"
  },
  "orig_nbformat": 4,
  "vscode": {
   "interpreter": {
    "hash": "e9719b890ea8a12de661beec7aeb70bb889ba79a664a03946a3ab2704cb94260"
   }
  }
 },
 "nbformat": 4,
 "nbformat_minor": 2
}
