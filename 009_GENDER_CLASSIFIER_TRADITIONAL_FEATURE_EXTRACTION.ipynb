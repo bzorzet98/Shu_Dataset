{
 "cells": [
  {
   "cell_type": "code",
   "execution_count": 12,
   "metadata": {},
   "outputs": [],
   "source": [
    "import pandas as pd\n",
    "import numpy as np\n",
    "import scipy.io as sio\n",
    "from scipy import signal\n",
    "\n",
    "from sklearn.discriminant_analysis import LinearDiscriminantAnalysis\n",
    "from sklearn import svm\n",
    "from sklearn.model_selection import train_test_split, KFold, StratifiedKFold, GroupKFold, GridSearchCV  , StratifiedGroupKFold, cross_validate\n",
    "from sklearn.metrics import accuracy_score, balanced_accuracy_score, recall_score\n",
    "from sklearn.pipeline import make_pipeline\n",
    "from sklearn.utils import shuffle\n",
    "from sklearn.preprocessing import StandardScaler\n",
    "from sklearn.neural_network import MLPRegressor, MLPClassifier\n",
    "\n",
    "from random import sample, shuffle\n",
    "from sklearn.linear_model import SGDClassifier\n",
    "from sklearn.base import clone\n",
    "from copy import deepcopy\n",
    "\n",
    "import matplotlib.pyplot as plt \n",
    "import seaborn as sns"
   ]
  },
  {
   "cell_type": "code",
   "execution_count": 2,
   "metadata": {},
   "outputs": [],
   "source": [
    "dataset_path_root = \"/home/bruno/Academico/Doctorado/Neuro_Fairness/Shu_Dataset/002_Dataset_Traditional_Feature_Extraction/\"\n",
    "participants=[\"sub-001\",\"sub-002\",\"sub-003\",\"sub-004\",\"sub-005\",\n",
    "              \"sub-006\",\"sub-007\",\"sub-008\",\"sub-009\",\"sub-010\",\n",
    "              \"sub-011\",\"sub-012\",\"sub-013\",\"sub-014\",\"sub-015\",\n",
    "              \"sub-016\",\"sub-017\",\"sub-018\",\"sub-019\",\"sub-020\",\n",
    "              \"sub-021\",\"sub-022\",\"sub-023\",\"sub-024\",\"sub-025\"]\n",
    "sessions = [\"ses-01\",\"ses-02\",\"ses-03\",\"ses-04\",\"ses-05\"]"
   ]
  },
  {
   "cell_type": "code",
   "execution_count": 3,
   "metadata": {},
   "outputs": [],
   "source": [
    "dataset={}\n",
    "for participant in participants:\n",
    "    dataset[participant]={}\n",
    "    data_path=participant+\"_task_motorimagery_eeg_preprocessing_band_power_features.mat\"\n",
    "    data=sio.loadmat(dataset_path_root + data_path)\n",
    "    for session in sessions:\n",
    "        dataset[participant][session +'_data_band_power']=data[session +'_data_band_power']\n",
    "        dataset[participant][session +'_labels_trials']=data[session +'_labels_trials']\n",
    "    dataset[participant]['bands_freqs']= data['bands_freqs'] \n",
    "    dataset[participant]['sfreq']=np.squeeze(data['sfreq'])\n",
    "    dataset[participant]['age']=np.squeeze(data['age'])\n",
    "    dataset[participant]['gender']=data['gender'][0]\n",
    "    dataset[participant]['group_medidator']=data['group_medidator'][0]\n",
    "    dataset[participant]['id_participant']=data['id_participant'][0]"
   ]
  },
  {
   "cell_type": "code",
   "execution_count": 4,
   "metadata": {},
   "outputs": [
    {
     "name": "stdout",
     "output_type": "stream",
     "text": [
      "Participantes hombres: ['sub-001', 'sub-002', 'sub-008', 'sub-012', 'sub-013', 'sub-015', 'sub-017', 'sub-018', 'sub-019', 'sub-021', 'sub-022', 'sub-023', 'sub-025']\n",
      "Participantes mujeres: ['sub-003', 'sub-004', 'sub-005', 'sub-006', 'sub-007', 'sub-009', 'sub-010', 'sub-011', 'sub-014', 'sub-016', 'sub-020', 'sub-024']\n"
     ]
    }
   ],
   "source": [
    "index_female = []\n",
    "index_male = []\n",
    "for participant in participants:\n",
    "    if dataset[participant]['gender'] == 'M':\n",
    "        index_male.append(participant)\n",
    "    elif dataset[participant]['gender'] == 'F':\n",
    "        index_female.append(participant)\n",
    "print(f\"Participantes hombres: {index_male}\")\n",
    "print(f\"Participantes mujeres: {index_female}\")"
   ]
  },
  {
   "cell_type": "code",
   "execution_count": 14,
   "metadata": {},
   "outputs": [],
   "source": [
    "for participant in participants:\n",
    "    data_ = np.concatenate((dataset[participant]['ses-01_data_band_power'],\n",
    "                            dataset[participant]['ses-02_data_band_power'],\n",
    "                            dataset[participant]['ses-03_data_band_power'],\n",
    "                            dataset[participant]['ses-04_data_band_power'],\n",
    "                            dataset[participant]['ses-05_data_band_power']),axis=0)\n",
    "    \n",
    "    dataset[participant]['data_band_power'] = np.reshape(data_,(data_.shape[0],data_.shape[1]*data_.shape[2]))\n",
    "    dataset[participant]['data_gender'] =  np.array(list(dataset[participant]['gender']) * data_.shape[0])\n",
    "    dataset[participant]['group_participant'] =  np.array(list([participant]) * data_.shape[0])"
   ]
  },
  {
   "cell_type": "code",
   "execution_count": 17,
   "metadata": {},
   "outputs": [
    {
     "data": {
      "text/plain": [
       "(491, 192)"
      ]
     },
     "execution_count": 17,
     "metadata": {},
     "output_type": "execute_result"
    }
   ],
   "source": [
    "dataset[\"sub-011\"]['data_band_power'].shape"
   ]
  },
  {
   "cell_type": "code",
   "execution_count": 18,
   "metadata": {},
   "outputs": [],
   "source": [
    "n_features = 192\n",
    "N_it = 20\n",
    "n_test_participant = 2\n",
    "n_val_participant = 2 \n",
    "n_ign_participant = 1\n",
    "\n",
    "max_iter = 200\n",
    "patience = 50 \n",
    "info_exp = {}\n",
    "info_clfs = {}\n",
    "for it in range(N_it):\n",
    "    dic_aux = {}\n",
    "    \n",
    "    X_train = None\n",
    "    X_val = None\n",
    "    X_test = None \n",
    "    \n",
    "    X_train_ = None\n",
    "    X_val_ = None\n",
    "    X_test_ = None\n",
    "    \n",
    "    idx_male = index_male.copy()\n",
    "    idx_female = index_female.copy()\n",
    "    \n",
    "    # TEST PARTICIPANTS:\n",
    "    idx_male_test = sample(idx_male, n_test_participant)\n",
    "    idx_female_test = sample(idx_female, n_test_participant)\n",
    "    for it_ in range(n_test_participant):\n",
    "        idx_male.remove(idx_male_test[it_])\n",
    "        idx_female.remove(idx_female_test[it_])\n",
    "    idx_test = idx_male_test + idx_female_test\n",
    "    dic_aux['reg_idx_test'] = idx_test   \n",
    "    \n",
    "    # VALIDATION PARTICIPANTS:\n",
    "    idx_male_val = sample(idx_male, n_val_participant)\n",
    "    idx_female_val = sample(idx_female, n_val_participant)\n",
    "    for it_ in range(n_val_participant):\n",
    "        idx_male.remove(idx_male_val[it_])\n",
    "        idx_female.remove(idx_female_val[it_])\n",
    "    idx_val = idx_male_val + idx_female_val\n",
    "    dic_aux['reg_idx_val'] = idx_val  \n",
    "    \n",
    "    # TRAIN PARTICIPANTS:\n",
    "    idx_male_ignore = sample(idx_male, n_ign_participant)\n",
    "    for it_ in range(n_ign_participant):\n",
    "        idx_male.remove(idx_male_ignore[it_])\n",
    "    idx_male_train = idx_male.copy()\n",
    "    idx_female_train = idx_female.copy()\n",
    "    idx_train = idx_male_train + idx_female_train\n",
    "    dic_aux['reg_idx_train'] = idx_train    \n",
    "        \n",
    "    \n",
    "    # CONCATENAMOS EL CONJUNTO DE DATOS\n",
    "    # TEST\n",
    "    X_test = np.zeros((1,n_features))\n",
    "    Y_test = np.zeros(1)\n",
    "    for participant in idx_test:\n",
    "        X_test = np.concatenate((X_test, dataset[participant]['data_band_power']),axis=0)\n",
    "        Y_test = np.concatenate((Y_test, dataset[participant]['data_gender']),axis=0)\n",
    "    X_test = X_test[1:,:]\n",
    "    Y_test = Y_test[1:]\n",
    "    dic_aux['n_trials_test'] = {'male':np.sum(Y_test == 'M'),'female':np.sum(Y_test == 'F')}\n",
    "    dic_aux['proportion_trials_test'] = {'male':np.sum(Y_test == 'M')/(np.sum(Y_test == 'M')+np.sum(Y_test == 'F')),\n",
    "                                      'female':np.sum(Y_test == 'F')/(np.sum(Y_test == 'M')+np.sum(Y_test == 'F'))}\n",
    "    # VALIDATION\n",
    "    X_val = np.zeros((1,n_features))\n",
    "    Y_val = np.zeros(1)\n",
    "    for participant in idx_val:\n",
    "        X_val = np.concatenate((X_val, dataset[participant]['data_band_power']),axis=0)\n",
    "        Y_val = np.concatenate((Y_val, dataset[participant]['data_gender']),axis=0)\n",
    "    X_val = X_val[1:,:]\n",
    "    Y_val = Y_val[1:]\n",
    "    dic_aux['n_trials_val'] = {'male':np.sum(Y_val == 'M'),'female':np.sum(Y_val == 'F')}\n",
    "    dic_aux['proportion_trials_val'] = {'male':np.sum(Y_val == 'M')/(np.sum(Y_val == 'M')+np.sum(Y_val == 'F')),\n",
    "                                      'female':np.sum(Y_val == 'F')/(np.sum(Y_val == 'M')+np.sum(Y_val == 'F'))}\n",
    "        \n",
    "    # TRAIN\n",
    "    X_train = np.zeros((1,n_features))\n",
    "    Y_train = np.zeros(1)\n",
    "    for participant in idx_train:\n",
    "        X_train = np.concatenate((X_train, dataset[participant]['data_band_power']),axis=0)\n",
    "        Y_train = np.concatenate((Y_train, dataset[participant]['data_gender']),axis=0)\n",
    "    X_train = X_train[1:,:]\n",
    "    Y_train = Y_train[1:]\n",
    "    dic_aux['n_trials_train'] = {'male':np.sum(Y_train == 'M'),'female':np.sum(Y_train == 'F')}\n",
    "    dic_aux['proportion_trials_train'] = {'male':np.sum(Y_train == 'M')/(np.sum(Y_train == 'M')+np.sum(Y_train == 'F')),\n",
    "                                      'female':np.sum(Y_train == 'F')/(np.sum(Y_train == 'M')+np.sum(Y_train == 'F'))}   \n",
    "    \n",
    "    info_exp[f'it_{it}']=dic_aux\n",
    "    dic_aux={}\n",
    "    \n",
    "    #---------------------- TRAIN ------------------------------------#\n",
    "    \n",
    "    #-----------------------CLASSIFIER 1 -----------------------------#\n",
    "    acc_train = None\n",
    "    acc_val = None\n",
    "    acc_test = None\n",
    "    \n",
    "    tol = 1e-4\n",
    "    scaler = StandardScaler()\n",
    "    clf = LinearDiscriminantAnalysis(tol=tol)\n",
    "    \n",
    "    X_train_ = scaler.fit_transform(X_train, Y_train)\n",
    "    X_val_ = scaler.transform(X_val)\n",
    "    X_test_ = scaler.transform(X_test)\n",
    "    \n",
    "    \n",
    "    clf.fit(X_train_, Y_train)\n",
    "    acc_train = clf.score(X_train_ , Y_train)\n",
    "    acc_val = clf.score(X_val_ , Y_val)\n",
    "    acc_test = clf.score(X_test_, Y_test)\n",
    "    \n",
    "    dic_aux['clf_1']={'estimator': clf, 'acc_train': acc_train, 'acc_val' : acc_val, 'acc_test' : acc_test}\n",
    "    \n",
    "    info_clfs[f'it_{it}']=dic_aux\n",
    "    "
   ]
  },
  {
   "cell_type": "code",
   "execution_count": 19,
   "metadata": {},
   "outputs": [],
   "source": [
    "#Generamos la tabla de los acc para cada iteración y clasificador\n",
    "n_clfs = 1\n",
    "\n",
    "matrix_acc_train = np.zeros((n_clfs,N_it))\n",
    "matrix_acc_val = np.zeros((n_clfs,N_it))\n",
    "matrix_acc_test = np.zeros((n_clfs,N_it))\n",
    "\n",
    "for it0 in range(N_it):\n",
    "    for it1 in range(n_clfs):\n",
    "        matrix_acc_train[it1,it0] = info_clfs[f'it_{it0}'][f'clf_{it1+1}']['acc_train']\n",
    "        matrix_acc_val[it1,it0] = info_clfs[f'it_{it0}'][f'clf_{it1+1}']['acc_val']\n",
    "        matrix_acc_test[it1,it0] = info_clfs[f'it_{it0}'][f'clf_{it1+1}']['acc_test']\n",
    "\n",
    "acc_train_clfs_mean = matrix_acc_train.mean(axis=1,keepdims=True)\n",
    "acc_train_clfs_std = np.std(matrix_acc_train,axis=1,keepdims=True)\n",
    "\n",
    "acc_val_clfs_mean = matrix_acc_val.mean(axis=1,keepdims=True)\n",
    "acc_val_clfs_std = np.std(matrix_acc_val,axis=1,keepdims=True)\n",
    "\n",
    "acc_test_clfs_mean = matrix_acc_test.mean(axis=1,keepdims=True)\n",
    "acc_test_clfs_std = np.std(matrix_acc_test,axis=1,keepdims=True)"
   ]
  },
  {
   "cell_type": "code",
   "execution_count": 21,
   "metadata": {},
   "outputs": [
    {
     "data": {
      "text/html": [
       "<div>\n",
       "<style scoped>\n",
       "    .dataframe tbody tr th:only-of-type {\n",
       "        vertical-align: middle;\n",
       "    }\n",
       "\n",
       "    .dataframe tbody tr th {\n",
       "        vertical-align: top;\n",
       "    }\n",
       "\n",
       "    .dataframe thead th {\n",
       "        text-align: right;\n",
       "    }\n",
       "</style>\n",
       "<table border=\"1\" class=\"dataframe\">\n",
       "  <thead>\n",
       "    <tr style=\"text-align: right;\">\n",
       "      <th></th>\n",
       "      <th>0</th>\n",
       "      <th>1</th>\n",
       "      <th>2</th>\n",
       "      <th>3</th>\n",
       "      <th>4</th>\n",
       "      <th>5</th>\n",
       "      <th>6</th>\n",
       "      <th>7</th>\n",
       "      <th>8</th>\n",
       "      <th>9</th>\n",
       "      <th>10</th>\n",
       "      <th>11</th>\n",
       "      <th>12</th>\n",
       "      <th>13</th>\n",
       "      <th>14</th>\n",
       "      <th>15</th>\n",
       "      <th>16</th>\n",
       "      <th>17</th>\n",
       "      <th>18</th>\n",
       "      <th>19</th>\n",
       "    </tr>\n",
       "  </thead>\n",
       "  <tbody>\n",
       "    <tr>\n",
       "      <th>clf_1</th>\n",
       "      <td>0.581972</td>\n",
       "      <td>0.475392</td>\n",
       "      <td>0.569725</td>\n",
       "      <td>0.677369</td>\n",
       "      <td>0.573673</td>\n",
       "      <td>0.542592</td>\n",
       "      <td>0.616352</td>\n",
       "      <td>0.603216</td>\n",
       "      <td>0.471258</td>\n",
       "      <td>0.306936</td>\n",
       "      <td>0.579545</td>\n",
       "      <td>0.60432</td>\n",
       "      <td>0.59515</td>\n",
       "      <td>0.572479</td>\n",
       "      <td>0.566978</td>\n",
       "      <td>0.60881</td>\n",
       "      <td>0.713677</td>\n",
       "      <td>0.705208</td>\n",
       "      <td>0.430353</td>\n",
       "      <td>0.474846</td>\n",
       "    </tr>\n",
       "  </tbody>\n",
       "</table>\n",
       "</div>"
      ],
      "text/plain": [
       "             0         1         2         3         4         5         6   \\\n",
       "clf_1  0.581972  0.475392  0.569725  0.677369  0.573673  0.542592  0.616352   \n",
       "\n",
       "             7         8         9         10       11       12        13  \\\n",
       "clf_1  0.603216  0.471258  0.306936  0.579545  0.60432  0.59515  0.572479   \n",
       "\n",
       "             14       15        16        17        18        19  \n",
       "clf_1  0.566978  0.60881  0.713677  0.705208  0.430353  0.474846  "
      ]
     },
     "execution_count": 21,
     "metadata": {},
     "output_type": "execute_result"
    }
   ],
   "source": [
    "accs_train_df = pd.DataFrame(matrix_acc_train,index=['clf_1'])\n",
    "accs_val_df = pd.DataFrame(matrix_acc_val,index=['clf_1'])\n",
    "accs_test_df = pd.DataFrame(matrix_acc_test,index=['clf_1'])\n",
    "accs_test_df"
   ]
  },
  {
   "cell_type": "code",
   "execution_count": 22,
   "metadata": {},
   "outputs": [
    {
     "data": {
      "text/html": [
       "<div>\n",
       "<style scoped>\n",
       "    .dataframe tbody tr th:only-of-type {\n",
       "        vertical-align: middle;\n",
       "    }\n",
       "\n",
       "    .dataframe tbody tr th {\n",
       "        vertical-align: top;\n",
       "    }\n",
       "\n",
       "    .dataframe thead th {\n",
       "        text-align: right;\n",
       "    }\n",
       "</style>\n",
       "<table border=\"1\" class=\"dataframe\">\n",
       "  <thead>\n",
       "    <tr style=\"text-align: right;\">\n",
       "      <th></th>\n",
       "      <th>TRAIN MEAN</th>\n",
       "      <th>TRAIN STD</th>\n",
       "      <th>VAL MEAN</th>\n",
       "      <th>VAL STD</th>\n",
       "      <th>TEST MEAN</th>\n",
       "      <th>TEST STD</th>\n",
       "    </tr>\n",
       "  </thead>\n",
       "  <tbody>\n",
       "    <tr>\n",
       "      <th>clf_1</th>\n",
       "      <td>0.789706</td>\n",
       "      <td>0.021813</td>\n",
       "      <td>0.541347</td>\n",
       "      <td>0.087862</td>\n",
       "      <td>0.563493</td>\n",
       "      <td>0.093179</td>\n",
       "    </tr>\n",
       "  </tbody>\n",
       "</table>\n",
       "</div>"
      ],
      "text/plain": [
       "       TRAIN MEAN  TRAIN STD  VAL MEAN   VAL STD  TEST MEAN  TEST STD\n",
       "clf_1    0.789706   0.021813  0.541347  0.087862   0.563493  0.093179"
      ]
     },
     "execution_count": 22,
     "metadata": {},
     "output_type": "execute_result"
    }
   ],
   "source": [
    "results_df = pd.DataFrame(np.concatenate((acc_train_clfs_mean,acc_train_clfs_std,\n",
    "                                          acc_val_clfs_mean,acc_val_clfs_std,\n",
    "                                          acc_test_clfs_mean,acc_test_clfs_std),axis=1),\n",
    "                          columns = ['TRAIN MEAN', 'TRAIN STD','VAL MEAN', 'VAL STD','TEST MEAN', 'TEST STD']\n",
    "                          ,index=['clf_1'])\n",
    "results_df"
   ]
  },
  {
   "cell_type": "code",
   "execution_count": 23,
   "metadata": {},
   "outputs": [],
   "source": [
    "from scipy.stats import ks_1samp\n",
    "from scipy.stats import ttest_1samp\n",
    "from scipy.stats import wilcoxon\n",
    "from scipy import stats"
   ]
  },
  {
   "attachments": {},
   "cell_type": "markdown",
   "metadata": {},
   "source": [
    "# Test de normalidad\n"
   ]
  },
  {
   "cell_type": "code",
   "execution_count": 24,
   "metadata": {},
   "outputs": [
    {
     "name": "stdout",
     "output_type": "stream",
     "text": [
      "Significancia: 0.05\n",
      "Intervalo de confianza: 95.0\n"
     ]
    },
    {
     "data": {
      "text/html": [
       "<div>\n",
       "<style scoped>\n",
       "    .dataframe tbody tr th:only-of-type {\n",
       "        vertical-align: middle;\n",
       "    }\n",
       "\n",
       "    .dataframe tbody tr th {\n",
       "        vertical-align: top;\n",
       "    }\n",
       "\n",
       "    .dataframe thead th {\n",
       "        text-align: right;\n",
       "    }\n",
       "</style>\n",
       "<table border=\"1\" class=\"dataframe\">\n",
       "  <thead>\n",
       "    <tr style=\"text-align: right;\">\n",
       "      <th></th>\n",
       "      <th>statistics</th>\n",
       "      <th>p-value</th>\n",
       "      <th>H0</th>\n",
       "    </tr>\n",
       "  </thead>\n",
       "  <tbody>\n",
       "    <tr>\n",
       "      <th>clf_1</th>\n",
       "      <td>0.620554</td>\n",
       "      <td>5.885191e-08</td>\n",
       "      <td>False</td>\n",
       "    </tr>\n",
       "  </tbody>\n",
       "</table>\n",
       "</div>"
      ],
      "text/plain": [
       "       statistics       p-value     H0\n",
       "clf_1    0.620554  5.885191e-08  False"
      ]
     },
     "execution_count": 24,
     "metadata": {},
     "output_type": "execute_result"
    }
   ],
   "source": [
    "alpha = 0.05\n",
    "alpha_bonferroni = alpha / 1\n",
    "\n",
    "test_norm = pd.DataFrame(columns=['statistics','p-value','H0'])\n",
    "clf_names = accs_test_df.index.values.tolist()\n",
    "\n",
    "for clf in clf_names: \n",
    "    acc_test = accs_test_df.loc[clf]\n",
    "    norm_test = ks_1samp(acc_test,stats.norm.cdf)\n",
    "    if norm_test.pvalue <= alpha_bonferroni:\n",
    "        test_norm.loc[clf]=[norm_test.statistic,norm_test.pvalue,False]\n",
    "    else:\n",
    "        test_norm.loc[clf]=[norm_test.statistic,norm_test.pvalue,True]\n",
    "\n",
    "print(f'Significancia: {alpha_bonferroni:.2}')\n",
    "print(f'Intervalo de confianza: {100*(1-alpha_bonferroni)}')\n",
    "test_norm"
   ]
  },
  {
   "attachments": {},
   "cell_type": "markdown",
   "metadata": {},
   "source": [
    "# Test de WIlcoxon"
   ]
  },
  {
   "cell_type": "code",
   "execution_count": 25,
   "metadata": {},
   "outputs": [
    {
     "name": "stdout",
     "output_type": "stream",
     "text": [
      "Significancia: 0.05\n",
      "Intervalo de confianza: 95.0\n"
     ]
    },
    {
     "data": {
      "text/html": [
       "<div>\n",
       "<style scoped>\n",
       "    .dataframe tbody tr th:only-of-type {\n",
       "        vertical-align: middle;\n",
       "    }\n",
       "\n",
       "    .dataframe tbody tr th {\n",
       "        vertical-align: top;\n",
       "    }\n",
       "\n",
       "    .dataframe thead th {\n",
       "        text-align: right;\n",
       "    }\n",
       "</style>\n",
       "<table border=\"1\" class=\"dataframe\">\n",
       "  <thead>\n",
       "    <tr style=\"text-align: right;\">\n",
       "      <th></th>\n",
       "      <th>statics</th>\n",
       "      <th>p-value</th>\n",
       "      <th>H0</th>\n",
       "    </tr>\n",
       "  </thead>\n",
       "  <tbody>\n",
       "    <tr>\n",
       "      <th>clf_1</th>\n",
       "      <td>30.0</td>\n",
       "      <td>0.003654</td>\n",
       "      <td>False</td>\n",
       "    </tr>\n",
       "  </tbody>\n",
       "</table>\n",
       "</div>"
      ],
      "text/plain": [
       "       statics   p-value     H0\n",
       "clf_1     30.0  0.003654  False"
      ]
     },
     "execution_count": 25,
     "metadata": {},
     "output_type": "execute_result"
    }
   ],
   "source": [
    "mu = 0.5\n",
    "test = pd.DataFrame(columns=['statics','p-value','H0'])\n",
    "\n",
    "for clf in clf_names: \n",
    "    acc_test = accs_test_df.loc[clf]\n",
    "    w_test = wilcoxon(acc_test-mu)\n",
    "    if w_test.pvalue <= alpha_bonferroni:\n",
    "        test.loc[clf]=[w_test.statistic,w_test.pvalue,False]\n",
    "    else: \n",
    "        test.loc[clf]=[w_test.statistic,w_test.pvalue,True]\n",
    "\n",
    "print(f'Significancia: {alpha_bonferroni:.2}')\n",
    "print(f'Intervalo de confianza: {100*(1-alpha_bonferroni)}')\n",
    "test"
   ]
  },
  {
   "cell_type": "code",
   "execution_count": null,
   "metadata": {},
   "outputs": [],
   "source": []
  }
 ],
 "metadata": {
  "kernelspec": {
   "display_name": "Python 3.8.10 64-bit",
   "language": "python",
   "name": "python3"
  },
  "language_info": {
   "codemirror_mode": {
    "name": "ipython",
    "version": 3
   },
   "file_extension": ".py",
   "mimetype": "text/x-python",
   "name": "python",
   "nbconvert_exporter": "python",
   "pygments_lexer": "ipython3",
   "version": "3.8.10"
  },
  "orig_nbformat": 4,
  "vscode": {
   "interpreter": {
    "hash": "916dbcbb3f70747c44a77c7bcd40155683ae19c65e1c03b4aa3499c5328201f1"
   }
  }
 },
 "nbformat": 4,
 "nbformat_minor": 2
}
